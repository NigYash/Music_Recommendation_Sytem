{
 "cells": [
  {
   "cell_type": "code",
   "execution_count": 1,
   "metadata": {},
   "outputs": [],
   "source": [
    "import requests\n",
    "import base64"
   ]
  },
  {
   "cell_type": "code",
   "execution_count": 2,
   "metadata": {},
   "outputs": [
    {
     "name": "stdout",
     "output_type": "stream",
     "text": [
      "Access token obtained successfully.\n"
     ]
    }
   ],
   "source": [
    "CLIENT_ID = 'fb65ab255f7240a9b14d9a427daa16ef'\n",
    "CLIENT_SECRET = 'de6411d774cc4c498dd9e6114b977505'\n",
    "\n",
    "# Base64 encode the client ID and client secret\n",
    "client_credentials = f\"{CLIENT_ID}:{CLIENT_SECRET}\"\n",
    "client_credentials_base64 = base64.b64encode(client_credentials.encode())\n",
    "\n",
    "# Request the access token\n",
    "token_url = 'https://accounts.spotify.com/api/token'\n",
    "headers = {\n",
    "    'Authorization': f'Basic {client_credentials_base64.decode()}'\n",
    "}\n",
    "data = {\n",
    "    'grant_type': 'client_credentials'\n",
    "}\n",
    "response = requests.post(token_url, data=data, headers=headers)\n",
    "\n",
    "if response.status_code == 200:\n",
    "    access_token = response.json()['access_token']\n",
    "    print(\"Access token obtained successfully.\")\n",
    "else:\n",
    "    print(\"Error obtaining access token.\")\n",
    "    exit()"
   ]
  },
  {
   "cell_type": "code",
   "execution_count": 3,
   "metadata": {},
   "outputs": [
    {
     "name": "stdout",
     "output_type": "stream",
     "text": [
      "Collecting spotify\n",
      "  Downloading spotify-0.10.2-py3-none-any.whl.metadata (5.5 kB)\n",
      "Collecting aiohttp<4.0,>=3.6 (from spotify)\n",
      "  Downloading aiohttp-3.9.5-cp39-cp39-win_amd64.whl.metadata (7.7 kB)\n",
      "Collecting backoff<2.0.0,>=1.10.0 (from spotify)\n",
      "  Downloading backoff-1.11.1-py2.py3-none-any.whl.metadata (12 kB)\n",
      "Collecting aiosignal>=1.1.2 (from aiohttp<4.0,>=3.6->spotify)\n",
      "  Downloading aiosignal-1.3.1-py3-none-any.whl.metadata (4.0 kB)\n",
      "Requirement already satisfied: attrs>=17.3.0 in c:\\users\\dell\\appdata\\local\\programs\\python\\python39\\lib\\site-packages (from aiohttp<4.0,>=3.6->spotify) (22.1.0)\n",
      "Collecting frozenlist>=1.1.1 (from aiohttp<4.0,>=3.6->spotify)\n",
      "  Downloading frozenlist-1.4.1-cp39-cp39-win_amd64.whl.metadata (12 kB)\n",
      "Collecting multidict<7.0,>=4.5 (from aiohttp<4.0,>=3.6->spotify)\n",
      "  Downloading multidict-6.0.5-cp39-cp39-win_amd64.whl.metadata (4.3 kB)\n",
      "Collecting yarl<2.0,>=1.0 (from aiohttp<4.0,>=3.6->spotify)\n",
      "  Downloading yarl-1.9.4-cp39-cp39-win_amd64.whl.metadata (32 kB)\n",
      "Collecting async-timeout<5.0,>=4.0 (from aiohttp<4.0,>=3.6->spotify)\n",
      "  Downloading async_timeout-4.0.3-py3-none-any.whl.metadata (4.2 kB)\n",
      "Requirement already satisfied: idna>=2.0 in c:\\users\\dell\\appdata\\local\\programs\\python\\python39\\lib\\site-packages (from yarl<2.0,>=1.0->aiohttp<4.0,>=3.6->spotify) (2.10)\n",
      "Downloading spotify-0.10.2-py3-none-any.whl (46 kB)\n",
      "   ---------------------------------------- 46.4/46.4 kB 2.3 MB/s eta 0:00:00\n",
      "Downloading aiohttp-3.9.5-cp39-cp39-win_amd64.whl (371 kB)\n",
      "   ---------------------------------------- 371.6/371.6 kB 2.9 MB/s eta 0:00:00\n",
      "Downloading backoff-1.11.1-py2.py3-none-any.whl (13 kB)\n",
      "Downloading aiosignal-1.3.1-py3-none-any.whl (7.6 kB)\n",
      "Downloading async_timeout-4.0.3-py3-none-any.whl (5.7 kB)\n",
      "Downloading frozenlist-1.4.1-cp39-cp39-win_amd64.whl (50 kB)\n",
      "   ---------------------------------------- 50.7/50.7 kB 2.5 MB/s eta 0:00:00\n",
      "Downloading multidict-6.0.5-cp39-cp39-win_amd64.whl (28 kB)\n",
      "Downloading yarl-1.9.4-cp39-cp39-win_amd64.whl (76 kB)\n",
      "   ---------------------------------------- 76.9/76.9 kB 4.2 MB/s eta 0:00:00\n",
      "Installing collected packages: multidict, frozenlist, backoff, async-timeout, yarl, aiosignal, aiohttp, spotify\n",
      "  Attempting uninstall: backoff\n",
      "    Found existing installation: backoff 2.2.1\n",
      "    Uninstalling backoff-2.2.1:\n",
      "      Successfully uninstalled backoff-2.2.1\n",
      "Successfully installed aiohttp-3.9.5 aiosignal-1.3.1 async-timeout-4.0.3 backoff-1.11.1 frozenlist-1.4.1 multidict-6.0.5 spotify-0.10.2 yarl-1.9.4\n",
      "Note: you may need to restart the kernel to use updated packages.\n"
     ]
    },
    {
     "name": "stderr",
     "output_type": "stream",
     "text": [
      "ERROR: pip's dependency resolver does not currently take into account all the packages that are installed. This behaviour is the source of the following dependency conflicts.\n",
      "opencage 2.3.0 requires backoff>=2.2.1, but you have backoff 1.11.1 which is incompatible.\n",
      "\n",
      "[notice] A new release of pip is available: 24.0 -> 24.1\n",
      "[notice] To update, run: python.exe -m pip install --upgrade pip\n"
     ]
    }
   ],
   "source": [
    "pip install spotify"
   ]
  },
  {
   "cell_type": "code",
   "execution_count": 7,
   "metadata": {},
   "outputs": [
    {
     "name": "stdout",
     "output_type": "stream",
     "text": [
      "Collecting spotipy\n",
      "  Downloading spotipy-2.24.0-py3-none-any.whl.metadata (4.9 kB)\n",
      "Collecting redis>=3.5.3 (from spotipy)\n",
      "  Downloading redis-5.0.6-py3-none-any.whl.metadata (9.3 kB)\n",
      "Requirement already satisfied: requests>=2.25.0 in c:\\users\\dell\\appdata\\local\\programs\\python\\python39\\lib\\site-packages (from spotipy) (2.31.0)\n",
      "Requirement already satisfied: urllib3>=1.26.0 in c:\\users\\dell\\appdata\\local\\programs\\python\\python39\\lib\\site-packages (from spotipy) (2.2.1)\n",
      "Requirement already satisfied: async-timeout>=4.0.3 in c:\\users\\dell\\appdata\\local\\programs\\python\\python39\\lib\\site-packages (from redis>=3.5.3->spotipy) (4.0.3)\n",
      "Requirement already satisfied: charset-normalizer<4,>=2 in c:\\users\\dell\\appdata\\local\\programs\\python\\python39\\lib\\site-packages (from requests>=2.25.0->spotipy) (3.3.2)\n",
      "Requirement already satisfied: idna<4,>=2.5 in c:\\users\\dell\\appdata\\local\\programs\\python\\python39\\lib\\site-packages (from requests>=2.25.0->spotipy) (2.10)\n",
      "Requirement already satisfied: certifi>=2017.4.17 in c:\\users\\dell\\appdata\\local\\programs\\python\\python39\\lib\\site-packages (from requests>=2.25.0->spotipy) (2023.7.22)\n",
      "Downloading spotipy-2.24.0-py3-none-any.whl (30 kB)\n",
      "Downloading redis-5.0.6-py3-none-any.whl (252 kB)\n",
      "   ---------------------------------------- 252.0/252.0 kB 2.2 MB/s eta 0:00:00\n",
      "Installing collected packages: redis, spotipy\n",
      "Successfully installed redis-5.0.6 spotipy-2.24.0\n",
      "Note: you may need to restart the kernel to use updated packages.\n"
     ]
    },
    {
     "name": "stderr",
     "output_type": "stream",
     "text": [
      "\n",
      "[notice] A new release of pip is available: 24.0 -> 24.1\n",
      "[notice] To update, run: python.exe -m pip install --upgrade pip\n"
     ]
    }
   ],
   "source": [
    "pip install spotipy"
   ]
  },
  {
   "cell_type": "code",
   "execution_count": 8,
   "metadata": {},
   "outputs": [],
   "source": [
    "import pandas as pd\n",
    "import spotipy\n",
    "from spotipy.oauth2 import SpotifyOAuth"
   ]
  },
  {
   "cell_type": "code",
   "execution_count": 9,
   "metadata": {},
   "outputs": [],
   "source": [
    "def get_trending_playlist_data(playlist_id, access_token):\n",
    "    # Set up Spotipy with the access token\n",
    "    sp = spotipy.Spotify(auth=access_token)\n",
    "\n",
    "    # Get the tracks from the playlist\n",
    "    playlist_tracks = sp.playlist_tracks(playlist_id, fields='items(track(id, name, artists, album(id, name)))')\n",
    "\n",
    "    # Extract relevant information and store in a list of dictionaries\n",
    "    music_data = []\n",
    "    for track_info in playlist_tracks['items']:\n",
    "        track = track_info['track']\n",
    "        track_name = track['name']\n",
    "        artists = ', '.join([artist['name'] for artist in track['artists']])\n",
    "        album_name = track['album']['name']\n",
    "        album_id = track['album']['id']\n",
    "        track_id = track['id']\n",
    "\n",
    "        # Get audio features for the track\n",
    "        audio_features = sp.audio_features(track_id)[0] if track_id != 'Not available' else None\n",
    "\n",
    "        # Get release date of the album\n",
    "        try:\n",
    "            album_info = sp.album(album_id) if album_id != 'Not available' else None\n",
    "            release_date = album_info['release_date'] if album_info else None\n",
    "        except:\n",
    "            release_date = None\n",
    "\n",
    "        # Get popularity of the track\n",
    "        try:\n",
    "            track_info = sp.track(track_id) if track_id != 'Not available' else None\n",
    "            popularity = track_info['popularity'] if track_info else None\n",
    "        except:\n",
    "            popularity = None\n",
    "\n",
    "        # Add additional track information to the track data\n",
    "        track_data = {\n",
    "            'Track Name': track_name,\n",
    "            'Artists': artists,\n",
    "            'Album Name': album_name,\n",
    "            'Album ID': album_id,\n",
    "            'Track ID': track_id,\n",
    "            'Popularity': popularity,\n",
    "            'Release Date': release_date,\n",
    "            'Duration (ms)': audio_features['duration_ms'] if audio_features else None,\n",
    "            'Explicit': track_info.get('explicit', None),\n",
    "            'External URLs': track_info.get('external_urls', {}).get('spotify', None),\n",
    "            'Danceability': audio_features['danceability'] if audio_features else None,\n",
    "            'Energy': audio_features['energy'] if audio_features else None,\n",
    "            'Key': audio_features['key'] if audio_features else None,\n",
    "            'Loudness': audio_features['loudness'] if audio_features else None,\n",
    "            'Mode': audio_features['mode'] if audio_features else None,\n",
    "            'Speechiness': audio_features['speechiness'] if audio_features else None,\n",
    "            'Acousticness': audio_features['acousticness'] if audio_features else None,\n",
    "            'Instrumentalness': audio_features['instrumentalness'] if audio_features else None,\n",
    "            'Liveness': audio_features['liveness'] if audio_features else None,\n",
    "            'Valence': audio_features['valence'] if audio_features else None,\n",
    "            'Tempo': audio_features['tempo'] if audio_features else None,\n",
    "            # Add more attributes as needed\n",
    "        }\n",
    "\n",
    "        music_data.append(track_data)\n",
    "\n",
    "    # Create a pandas DataFrame from the list of dictionaries\n",
    "    df = pd.DataFrame(music_data)\n",
    "\n",
    "    return df"
   ]
  },
  {
   "cell_type": "code",
   "execution_count": 11,
   "metadata": {},
   "outputs": [
    {
     "name": "stdout",
     "output_type": "stream",
     "text": [
      "                                 Track Name  \\\n",
      "0                              Chandni Raat   \n",
      "1            Ae Dil Hai Mushkil Title Track   \n",
      "2                           Ranjish Hi Sahi   \n",
      "3         Baawra Mann Dekhne Chala Ek Sapna   \n",
      "4                                   Saiyyan   \n",
      "..                                      ...   \n",
      "95                                 Memories   \n",
      "96               It's OK - Live MHS Studios   \n",
      "97                                 Homesick   \n",
      "98                                   Lately   \n",
      "99  Let Me Down Slowly (feat. Alessia Cara)   \n",
      "\n",
      "                                       Artists  \\\n",
      "0                                    Ali Sethi   \n",
      "1                         Pritam, Arijit Singh   \n",
      "2                                    Ali Sethi   \n",
      "3                                    Noel Toms   \n",
      "4   Kailash Kher, Paresh Kamath, Naresh Kamath   \n",
      "..                                         ...   \n",
      "95                                    Maroon 5   \n",
      "96                                  Nightbirde   \n",
      "97                                    Dua Lipa   \n",
      "98                                        Jade   \n",
      "99                 Alec Benjamin, Alessia Cara   \n",
      "\n",
      "                                           Album Name                Album ID  \\\n",
      "0                               Chandni Raat - Single  1b59XFrQss5t9UIEDRiRoo   \n",
      "1   Ae Dil Hai Mushkil (Original Motion Picture So...  5xjaz957o6YGSXmlfd2tex   \n",
      "2                    Coke Studio Season 10: Episode 1  5OFJg7KklIIfXF2xxtMCj8   \n",
      "3                   Baawra Mann Dekhne Chala Ek Sapna  0JWpusoFLmzgK5FOWlZH37   \n",
      "4                                           Jhoomo Re  1DzYor2sqKFs4Z6qcUl0V5   \n",
      "..                                                ...                     ...   \n",
      "95                                     JORDI (Deluxe)  1pCA38N6MkLlthXtAOvZTU   \n",
      "96                                            It's OK  5dc3AcyayzNBShv1OhuD7a   \n",
      "97                                  Dua Lipa (Deluxe)  01sfgrNbnnPUEyz6GZYlt9   \n",
      "98                                             Lately  18bKRMFuesbke7eQL1MOLq   \n",
      "99            Let Me Down Slowly (feat. Alessia Cara)  30NnJW4urmnnaExzLLMuy6   \n",
      "\n",
      "                  Track ID  Popularity Release Date  Duration (ms)  Explicit  \\\n",
      "0   1Se9TChEPEDrIKkfKqKNR6           0   2019-03-07         225257     False   \n",
      "1   1UWacd8x8tPPwmrPB1MoBI          67   2016-10-26         269032     False   \n",
      "2   4t2sMBajRuSKudtieXPgPp          49   2017-08-14         336867     False   \n",
      "3   1vZjknAf3Q7HSNRG0cgKSG          37   2021-01-16         165577     False   \n",
      "4   2vR23BjIzpLMtzsyKrM6Mb          64   2011-06-03         343907     False   \n",
      "..                     ...         ...          ...            ...       ...   \n",
      "95  4cktbXiXOapiLBMprHFErI          78   2021-06-11         189486     False   \n",
      "96  7pCguhV9HHtP2atsdRkNwU           0   2021-02-12         245597     False   \n",
      "97  5E5MqaS6eOsbaJibl3YeMZ          56   2017-06-02         230480     False   \n",
      "98  4VcnlEFd5Y70p6bwbFjO5t          22   2020-09-04         195347     False   \n",
      "99  1roCmBlcpV7LzsmB7pmCyt          61   2019-01-07         169175     False   \n",
      "\n",
      "                                        External URLs  ...  Energy  Key  \\\n",
      "0   https://open.spotify.com/track/1Se9TChEPEDrIKk...  ...  0.2160    3   \n",
      "1   https://open.spotify.com/track/1UWacd8x8tPPwmr...  ...  0.6540    3   \n",
      "2   https://open.spotify.com/track/4t2sMBajRuSKudt...  ...  0.4240   11   \n",
      "3   https://open.spotify.com/track/1vZjknAf3Q7HSNR...  ...  0.0735    2   \n",
      "4   https://open.spotify.com/track/2vR23BjIzpLMtzs...  ...  0.5620    0   \n",
      "..                                                ...  ...     ...  ...   \n",
      "95  https://open.spotify.com/track/4cktbXiXOapiLBM...  ...  0.3270   11   \n",
      "96  https://open.spotify.com/track/7pCguhV9HHtP2at...  ...  0.2710    2   \n",
      "97  https://open.spotify.com/track/5E5MqaS6eOsbaJi...  ...  0.2240    6   \n",
      "98  https://open.spotify.com/track/4VcnlEFd5Y70p6b...  ...  0.4030    6   \n",
      "99  https://open.spotify.com/track/1roCmBlcpV7Lzsm...  ...  0.5690    1   \n",
      "\n",
      "    Loudness  Mode  Speechiness  Acousticness  Instrumentalness  Liveness  \\\n",
      "0     -7.632     1       0.0342         0.953          0.000089    0.1410   \n",
      "1     -6.639     0       0.0679         0.713          0.000000    0.1650   \n",
      "2     -9.535     1       0.0289         0.482          0.000021    0.1390   \n",
      "3    -20.761     1       0.0400         0.936          0.000000    0.0830   \n",
      "4     -8.624     1       0.0451         0.650          0.000117    0.1200   \n",
      "..       ...   ...          ...           ...               ...       ...   \n",
      "95    -7.241     1       0.0557         0.841          0.000000    0.0821   \n",
      "96    -8.893     1       0.0399         0.887          0.000001    0.1090   \n",
      "97    -8.683     1       0.0391         0.948          0.000000    0.1120   \n",
      "98    -9.840     1       0.0591         0.190          0.000239    0.1060   \n",
      "99    -5.018     0       0.0349         0.716          0.000007    0.1350   \n",
      "\n",
      "    Valence    Tempo  \n",
      "0     0.456  180.001  \n",
      "1     0.350  123.896  \n",
      "2     0.297  130.030  \n",
      "3     0.276  104.066  \n",
      "4     0.316   74.653  \n",
      "..      ...      ...  \n",
      "95    0.595   91.050  \n",
      "96    0.256  120.064  \n",
      "97    0.399   85.728  \n",
      "98    0.344  171.727  \n",
      "99    0.440  150.267  \n",
      "\n",
      "[100 rows x 21 columns]\n"
     ]
    }
   ],
   "source": [
    "playlist_id = '15QyZT7ejdhacH1cdDH4ix'\n",
    "               \n",
    "\n",
    "# Call the function to get the music data from the playlist and store it in a DataFrame\n",
    "music_df = get_trending_playlist_data(playlist_id, access_token)\n",
    "\n",
    "# Display the DataFrame\n",
    "print(music_df)"
   ]
  },
  {
   "cell_type": "code",
   "execution_count": 12,
   "metadata": {},
   "outputs": [
    {
     "name": "stdout",
     "output_type": "stream",
     "text": [
      "Track Name          0\n",
      "Artists             0\n",
      "Album Name          0\n",
      "Album ID            0\n",
      "Track ID            0\n",
      "Popularity          0\n",
      "Release Date        0\n",
      "Duration (ms)       0\n",
      "Explicit            0\n",
      "External URLs       0\n",
      "Danceability        0\n",
      "Energy              0\n",
      "Key                 0\n",
      "Loudness            0\n",
      "Mode                0\n",
      "Speechiness         0\n",
      "Acousticness        0\n",
      "Instrumentalness    0\n",
      "Liveness            0\n",
      "Valence             0\n",
      "Tempo               0\n",
      "dtype: int64\n"
     ]
    }
   ],
   "source": [
    "print(music_df.isnull().sum())"
   ]
  },
  {
   "cell_type": "code",
   "execution_count": 13,
   "metadata": {},
   "outputs": [],
   "source": [
    "import pandas as pd\n",
    "import numpy as np\n",
    "from sklearn.model_selection import train_test_split\n",
    "from sklearn.preprocessing import MinMaxScaler\n",
    "from datetime import datetime\n",
    "from sklearn.metrics.pairwise import cosine_similarity\n",
    "\n",
    "data = music_df"
   ]
  },
  {
   "cell_type": "code",
   "execution_count": 14,
   "metadata": {},
   "outputs": [],
   "source": [
    "# Function to calculate weighted popularity scores based on release date\n",
    "def calculate_weighted_popularity(release_date):\n",
    "    # Convert the release date to datetime object\n",
    "    release_date = datetime.strptime(release_date, '%Y-%m-%d')\n",
    "\n",
    "    # Calculate the time span between release date and today's date\n",
    "    time_span = datetime.now() - release_date\n",
    "\n",
    "    # Calculate the weighted popularity score based on time span (e.g., more recent releases have higher weight)\n",
    "    weight = 1 / (time_span.days + 1)\n",
    "    return weight"
   ]
  },
  {
   "cell_type": "code",
   "execution_count": 15,
   "metadata": {},
   "outputs": [],
   "source": [
    "# Normalize the music features using Min-Max scaling\n",
    "scaler = MinMaxScaler()\n",
    "music_features = music_df[['Danceability', 'Energy', 'Key', \n",
    "                           'Loudness', 'Mode', 'Speechiness', 'Acousticness',\n",
    "                           'Instrumentalness', 'Liveness', 'Valence', 'Tempo']].values\n",
    "music_features_scaled = scaler.fit_transform(music_features)"
   ]
  },
  {
   "cell_type": "code",
   "execution_count": 16,
   "metadata": {},
   "outputs": [],
   "source": [
    "# a function to get content-based recommendations based on music features\n",
    "def content_based_recommendations(input_song_name, num_recommendations=5):\n",
    "    if input_song_name not in music_df['Track Name'].values:\n",
    "        print(f\"'{input_song_name}' not found in the dataset. Please enter a valid song name.\")\n",
    "        return\n",
    "\n",
    "    # Get the index of the input song in the music DataFrame\n",
    "    input_song_index = music_df[music_df['Track Name'] == input_song_name].index[0]\n",
    "\n",
    "    # Calculate the similarity scores based on music features (cosine similarity)\n",
    "    similarity_scores = cosine_similarity([music_features_scaled[input_song_index]], music_features_scaled)\n",
    "\n",
    "    # Get the indices of the most similar songs\n",
    "    similar_song_indices = similarity_scores.argsort()[0][::-1][1:num_recommendations + 1]\n",
    "\n",
    "    # Get the names of the most similar songs based on content-based filtering\n",
    "    content_based_recommendations = music_df.iloc[similar_song_indices][['Track Name', 'Artists', 'Album Name', 'Release Date', 'Popularity']]\n",
    "\n",
    "    return content_based_recommendations"
   ]
  },
  {
   "cell_type": "code",
   "execution_count": 17,
   "metadata": {},
   "outputs": [],
   "source": [
    "# a function to get hybrid recommendations based on weighted popularity\n",
    "def hybrid_recommendations(input_song_name, num_recommendations=5, alpha=0.5):\n",
    "    if input_song_name not in music_df['Track Name'].values:\n",
    "        print(f\"'{input_song_name}' not found in the dataset. Please enter a valid song name.\")\n",
    "        return\n",
    "\n",
    "    # Get content-based recommendations\n",
    "    content_based_rec = content_based_recommendations(input_song_name, num_recommendations)\n",
    "\n",
    "    # Get the popularity score of the input song\n",
    "    popularity_score = music_df.loc[music_df['Track Name'] == input_song_name, 'Popularity'].values[0]\n",
    "\n",
    "    # Calculate the weighted popularity score\n",
    "    weighted_popularity_score = popularity_score * calculate_weighted_popularity(music_df.loc[music_df['Track Name'] == input_song_name, 'Release Date'].values[0])\n",
    "\n",
    "    # Combine content-based and popularity-based recommendations based on weighted popularity\n",
    "    hybrid_recommendations = content_based_rec\n",
    "    hybrid_recommendations = hybrid_recommendations.append({\n",
    "        'Track Name': input_song_name,\n",
    "        'Artists': music_df.loc[music_df['Track Name'] == input_song_name, 'Artists'].values[0],\n",
    "        'Album Name': music_df.loc[music_df['Track Name'] == input_song_name, 'Album Name'].values[0],\n",
    "        'Release Date': music_df.loc[music_df['Track Name'] == input_song_name, 'Release Date'].values[0],\n",
    "        'Popularity': weighted_popularity_score\n",
    "    }, ignore_index=True)\n",
    "\n",
    "    # Sort the hybrid recommendations based on weighted popularity score\n",
    "    hybrid_recommendations = hybrid_recommendations.sort_values(by='Popularity', ascending=False)\n",
    "\n",
    "    # Remove the input song from the recommendations\n",
    "    hybrid_recommendations = hybrid_recommendations[hybrid_recommendations['Track Name'] != input_song_name]\n",
    "\n",
    "\n",
    "    return hybrid_recommendations"
   ]
  },
  {
   "cell_type": "code",
   "execution_count": 19,
   "metadata": {},
   "outputs": [
    {
     "name": "stdout",
     "output_type": "stream",
     "text": [
      "Hybrid recommended songs for 'Pehle Bhi Main':\n",
      "                Track Name                                            Artists  \\\n",
      "1                O Re Piya  Salim–Sulaiman, Rahat Fateh Ali Khan, Jaideep ...   \n",
      "4             Humnava Mere                       Jubin Nautiyal, Rocky - Shiv   \n",
      "2     Muskurane - Romantic                        Jeet Gannguli, Arijit Singh   \n",
      "3  Laila (From \"Notebook\")                   Dhvani Bhanushali, Vishal Mishra   \n",
      "0                 Kho Gaye                           Taaruk Raina, Mismatched   \n",
      "\n",
      "                                          Album Name Release Date  Popularity  \n",
      "1                                        Aaja Nachle   2007-10-18        65.0  \n",
      "4                                       Humnava Mere   2018-05-23        65.0  \n",
      "2    Citylights (Original Motion Picture Soundtrack)   2014-05-12        61.0  \n",
      "3                            Laila (From \"Notebook\")   2019-03-07        32.0  \n",
      "0  Mismatched: Season 2 (Music from the Netflix S...   2022-09-30         0.0  \n"
     ]
    },
    {
     "name": "stderr",
     "output_type": "stream",
     "text": [
      "C:\\Users\\Dell\\AppData\\Local\\Temp\\ipykernel_21128\\209674984.py:18: FutureWarning: The frame.append method is deprecated and will be removed from pandas in a future version. Use pandas.concat instead.\n",
      "  hybrid_recommendations = hybrid_recommendations.append({\n"
     ]
    }
   ],
   "source": [
    "input_song_name = \"Pehle Bhi Main\"\n",
    "recommendations = hybrid_recommendations(input_song_name, num_recommendations=5)\n",
    "print(f\"Hybrid recommended songs for '{input_song_name}':\")\n",
    "print(recommendations)"
   ]
  },
  {
   "cell_type": "code",
   "execution_count": null,
   "metadata": {},
   "outputs": [],
   "source": []
  }
 ],
 "metadata": {
  "kernelspec": {
   "display_name": "Python 3",
   "language": "python",
   "name": "python3"
  },
  "language_info": {
   "codemirror_mode": {
    "name": "ipython",
    "version": 3
   },
   "file_extension": ".py",
   "mimetype": "text/x-python",
   "name": "python",
   "nbconvert_exporter": "python",
   "pygments_lexer": "ipython3",
   "version": "3.9.10"
  }
 },
 "nbformat": 4,
 "nbformat_minor": 2
}
